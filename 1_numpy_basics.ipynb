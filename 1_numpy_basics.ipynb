{
 "cells": [
  {
   "cell_type": "code",
   "execution_count": 16,
   "metadata": {},
   "outputs": [
    {
     "data": {
      "text/plain": [
       "array([  5,   0, 155, 126, 336, 227, 499])"
      ]
     },
     "execution_count": 16,
     "metadata": {},
     "output_type": "execute_result"
    }
   ],
   "source": [
    "import numpy as np\n",
    "\n",
    "sales = [5,0,155,126,336,227,499]\n",
    "\n",
    "# vytvoření array\n",
    "sales_array = np.array(sales)\n",
    "sales_array"
   ]
  },
  {
   "cell_type": "markdown",
   "metadata": {},
   "source": [
    "## Základní informace"
   ]
  },
  {
   "cell_type": "code",
   "execution_count": 17,
   "metadata": {},
   "outputs": [
    {
     "name": "stdout",
     "output_type": "stream",
     "text": [
      "ndim: 1\n",
      "shape: (7,)\n",
      "size: 7\n",
      "dtype: int32\n"
     ]
    }
   ],
   "source": [
    "# NDIM = počet dimenzí\n",
    "print(f\"ndim: {sales_array.ndim}\")\n",
    "\n",
    "# SHAPE = velikost array v každé dimenzi\n",
    "print(f\"shape: {sales_array.shape}\")\n",
    "\n",
    "# SIZE = celkový počet elementů v každé array\n",
    "print(f\"size: {sales_array.size}\")\n",
    "\n",
    "# DTYPE = datový typ v array\n",
    "print(f\"dtype: {sales_array.dtype}\")"
   ]
  },
  {
   "cell_type": "markdown",
   "metadata": {},
   "source": [
    "#### -> nested list - v tomto případě 2 dimenze. Musí mít stejný počet elementů, jinak ERROR"
   ]
  },
  {
   "cell_type": "code",
   "execution_count": 18,
   "metadata": {},
   "outputs": [
    {
     "data": {
      "text/plain": [
       "array([[  5,   0, 155, 126, 336, 227, 499],\n",
       "       [ 35, 189, 367, 611, 239, 444,  10]])"
      ]
     },
     "execution_count": 18,
     "metadata": {},
     "output_type": "execute_result"
    }
   ],
   "source": [
    "sales_2 = [[5,0,155,126,336,227,499], [35,189,367,611,239,444,10]]\n",
    "\n",
    "sales_array_2 = np.array(sales_2)\n",
    "sales_array_2"
   ]
  },
  {
   "cell_type": "code",
   "execution_count": 19,
   "metadata": {},
   "outputs": [
    {
     "name": "stdout",
     "output_type": "stream",
     "text": [
      "ndim: 2\n",
      "shape: (2, 7)\n",
      "size: 14\n",
      "dtype: int32\n"
     ]
    }
   ],
   "source": [
    "# NDIM = počet dimenzí\n",
    "print(f\"ndim: {sales_array_2.ndim}\")\n",
    "\n",
    "# SHAPE = velikost array v každé dimenzi -> 2 dimenze po 7 elementech\n",
    "print(f\"shape: {sales_array_2.shape}\")\n",
    "\n",
    "# SIZE = celkový počet elementů v každé array\n",
    "print(f\"size: {sales_array_2.size}\")\n",
    "\n",
    "# DTYPE = datový typ v array\n",
    "print(f\"dtype: {sales_array_2.dtype}\")"
   ]
  },
  {
   "cell_type": "code",
   "execution_count": 24,
   "metadata": {},
   "outputs": [
    {
     "data": {
      "text/plain": [
       "array([0, 1, 2, 3, 4])"
      ]
     },
     "execution_count": 24,
     "metadata": {},
     "output_type": "execute_result"
    }
   ],
   "source": [
    "array = np.array(range(5))\n",
    "array"
   ]
  },
  {
   "cell_type": "code",
   "execution_count": 26,
   "metadata": {},
   "outputs": [
    {
     "data": {
      "text/plain": [
       "array([[0, 1, 2, 3, 4],\n",
       "       [0, 1, 2, 3, 4]])"
      ]
     },
     "execution_count": 26,
     "metadata": {},
     "output_type": "execute_result"
    }
   ],
   "source": [
    "array_2 = np.array([range(5), range(5)])\n",
    "array_2"
   ]
  },
  {
   "cell_type": "code",
   "execution_count": 30,
   "metadata": {},
   "outputs": [
    {
     "data": {
      "text/plain": [
       "array([[0, 0],\n",
       "       [1, 1],\n",
       "       [2, 2],\n",
       "       [3, 3],\n",
       "       [4, 4]])"
      ]
     },
     "execution_count": 30,
     "metadata": {},
     "output_type": "execute_result"
    }
   ],
   "source": [
    "# TRANSPOZICE array\n",
    "array_2.T"
   ]
  }
 ],
 "metadata": {
  "kernelspec": {
   "display_name": "Python 3",
   "language": "python",
   "name": "python3"
  },
  "language_info": {
   "codemirror_mode": {
    "name": "ipython",
    "version": 3
   },
   "file_extension": ".py",
   "mimetype": "text/x-python",
   "name": "python",
   "nbconvert_exporter": "python",
   "pygments_lexer": "ipython3",
   "version": "3.11.3"
  }
 },
 "nbformat": 4,
 "nbformat_minor": 2
}
